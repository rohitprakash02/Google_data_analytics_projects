{
 "cells": [
  {
   "cell_type": "markdown",
   "id": "municipal-detroit",
   "metadata": {
    "papermill": {
     "duration": 0.036444,
     "end_time": "2021-06-09T16:30:05.381905",
     "exception": false,
     "start_time": "2021-06-09T16:30:05.345461",
     "status": "completed"
    },
    "tags": []
   },
   "source": [
    "## Cyclistic bike-share analysis case study\n",
    "### How does a bike-share navigate speedy success?\n",
    "\n",
    "Cyclistic is a fictional bike-share company that has two type of customers, casual riders who use the service on a pay-as-you-go basis and members who purchase an annual subscription.   \n"
   ]
  },
  {
   "cell_type": "markdown",
   "id": "exceptional-people",
   "metadata": {
    "papermill": {
     "duration": 0.036067,
     "end_time": "2021-06-09T16:30:05.454126",
     "exception": false,
     "start_time": "2021-06-09T16:30:05.418059",
     "status": "completed"
    },
    "tags": []
   },
   "source": [
    "## Business task\n",
    "\n",
    "The business task can be stated as: Identify key differences on how casual riders and annual members use the bike-share service to fuel a targeted marketing compaign aiming at increasing the proportion of annual members within the customers pool."
   ]
  },
  {
   "cell_type": "markdown",
   "id": "thermal-aluminum",
   "metadata": {
    "papermill": {
     "duration": 0.036003,
     "end_time": "2021-06-09T16:30:05.526440",
     "exception": false,
     "start_time": "2021-06-09T16:30:05.490437",
     "status": "completed"
    },
    "tags": []
   },
   "source": [
    "## About Dataset\n",
    "\n",
    "We will use historical trip data provided by Motivate International Inc. to analyze and identify trends.\n",
    "This is a public dataset from a credible source. The data has been checked and is found to be reliable, original, comprehensive, current (last 12 months) and will enable us to answer the business questions."
   ]
  },
  {
   "cell_type": "code",
   "execution_count": 2,
   "id": "coral-worthy",
   "metadata": {
    "execution": {
     "iopub.execute_input": "2021-06-09T16:30:05.612513Z",
     "iopub.status.busy": "2021-06-09T16:30:05.611634Z",
     "iopub.status.idle": "2021-06-09T16:30:05.615878Z",
     "shell.execute_reply": "2021-06-09T16:30:05.615160Z",
     "shell.execute_reply.started": "2021-06-09T15:53:18.149563Z"
    },
    "papermill": {
     "duration": 0.05293,
     "end_time": "2021-06-09T16:30:05.616087",
     "exception": false,
     "start_time": "2021-06-09T16:30:05.563157",
     "status": "completed"
    },
    "tags": []
   },
   "outputs": [],
   "source": [
    "# Import Python libraries\n",
    "\n",
    "import pandas as pd\n",
    "import numpy as np\n",
    "import matplotlib.pyplot as plt"
   ]
  },
  {
   "cell_type": "code",
   "execution_count": 3,
   "id": "atmospheric-couple",
   "metadata": {
    "execution": {
     "iopub.execute_input": "2021-06-09T16:30:05.698491Z",
     "iopub.status.busy": "2021-06-09T16:30:05.697720Z",
     "iopub.status.idle": "2021-06-09T16:30:32.367293Z",
     "shell.execute_reply": "2021-06-09T16:30:32.366390Z",
     "shell.execute_reply.started": "2021-06-09T15:58:50.562524Z"
    },
    "papermill": {
     "duration": 26.714333,
     "end_time": "2021-06-09T16:30:32.367470",
     "exception": false,
     "start_time": "2021-06-09T16:30:05.653137",
     "status": "completed"
    },
    "tags": []
   },
   "outputs": [],
   "source": [
    "# Load in data from the past 12 months\n",
    "\n",
    "apr_20 = pd.read_csv(\"202004-divvy-tripdata.csv\", index_col = 'ride_id')\n",
    "may_20 = pd.read_csv(\"202005-divvy-tripdata.csv\", index_col = 'ride_id')\n",
    "jun_20 = pd.read_csv(\"202006-divvy-tripdata.csv\", index_col = 'ride_id')\n",
    "jul_20 = pd.read_csv(\"202007-divvy-tripdata.csv\", index_col = 'ride_id')\n",
    "aug_20 = pd.read_csv(\"202008-divvy-tripdata.csv\", index_col = 'ride_id')\n",
    "sep_20 = pd.read_csv(\"202009-divvy-tripdata.csv\", index_col = 'ride_id')\n",
    "oct_20 = pd.read_csv(\"202010-divvy-tripdata.csv\", index_col = 'ride_id')\n",
    "nov_20 = pd.read_csv(\"202011-divvy-tripdata.csv\", index_col = 'ride_id')\n",
    "dec_20 = pd.read_csv(\"202012-divvy-tripdata.csv\", index_col = 'ride_id')\n",
    "jan_21 = pd.read_csv(\"202101-divvy-tripdata.csv\", index_col = 'ride_id')\n",
    "feb_21 = pd.read_csv(\"202102-divvy-tripdata.csv\", index_col = 'ride_id')\n",
    "mar_21 = pd.read_csv(\"202103-divvy-tripdata.csv\", index_col = 'ride_id')\n",
    "apr_21 = pd.read_csv(\"202104-divvy-tripdata.csv\", index_col = 'ride_id')"
   ]
  },
  {
   "cell_type": "code",
   "execution_count": 5,
   "id": "sought-campus",
   "metadata": {
    "execution": {
     "iopub.execute_input": "2021-06-09T16:30:32.612537Z",
     "iopub.status.busy": "2021-06-09T16:30:32.596425Z",
     "iopub.status.idle": "2021-06-09T16:30:33.819388Z",
     "shell.execute_reply": "2021-06-09T16:30:33.818768Z",
     "shell.execute_reply.started": "2021-06-09T15:59:15.779692Z"
    },
    "papermill": {
     "duration": 1.414982,
     "end_time": "2021-06-09T16:30:33.819526",
     "exception": false,
     "start_time": "2021-06-09T16:30:32.404544",
     "status": "completed"
    },
    "scrolled": true,
    "tags": []
   },
   "outputs": [],
   "source": [
    "# Combining all files in a single file\n",
    "\n",
    "bike_share = pd.concat([apr_20,may_20, jun_20, jul_20, aug_20, sep_20, oct_20, nov_20, dec_20, jan_21, feb_21, mar_21, apr_21])\n",
    "\n",
    "bike_share.head()\n",
    "pd.DataFrame(bike_share)\n"
   ]
  },
  {
   "cell_type": "code",
   "execution_count": 6,
   "id": "4743fcc3",
   "metadata": {},
   "outputs": [],
   "source": [
    "bike_share.to_csv(\"Combine_all_file\", index = True)"
   ]
  },
  {
   "cell_type": "markdown",
   "id": "clear-model",
   "metadata": {
    "papermill": {
     "duration": 0.036614,
     "end_time": "2021-06-09T16:30:33.894162",
     "exception": false,
     "start_time": "2021-06-09T16:30:33.857548",
     "status": "completed"
    },
    "tags": []
   },
   "source": [
    "## 1.Data Cleaning\n",
    "\n",
    "Let's perform some data cleaning "
   ]
  },
  {
   "cell_type": "code",
   "execution_count": 6,
   "id": "handed-profile",
   "metadata": {
    "execution": {
     "iopub.execute_input": "2021-06-09T16:30:34.177771Z",
     "iopub.status.busy": "2021-06-09T16:30:34.176803Z",
     "iopub.status.idle": "2021-06-09T16:30:45.475450Z",
     "shell.execute_reply": "2021-06-09T16:30:45.474898Z",
     "shell.execute_reply.started": "2021-06-09T15:59:23.338815Z"
    },
    "papermill": {
     "duration": 11.544422,
     "end_time": "2021-06-09T16:30:45.475600",
     "exception": false,
     "start_time": "2021-06-09T16:30:33.931178",
     "status": "completed"
    },
    "tags": []
   },
   "outputs": [],
   "source": [
    "# check there are no duplicate entries in a dataset\n",
    "\n",
    "bike_share.drop_duplicates(keep = 'first', inplace=True)\n"
   ]
  },
  {
   "cell_type": "code",
   "execution_count": 7,
   "id": "twenty-japan",
   "metadata": {
    "execution": {
     "iopub.execute_input": "2021-06-09T16:30:45.875238Z",
     "iopub.status.busy": "2021-06-09T16:30:45.874284Z",
     "iopub.status.idle": "2021-06-09T16:30:47.933243Z",
     "shell.execute_reply": "2021-06-09T16:30:47.932490Z",
     "shell.execute_reply.started": "2021-06-09T15:59:33.798950Z"
    },
    "papermill": {
     "duration": 2.421004,
     "end_time": "2021-06-09T16:30:47.933440",
     "exception": false,
     "start_time": "2021-06-09T16:30:45.512436",
     "status": "completed"
    },
    "scrolled": true,
    "tags": []
   },
   "outputs": [
    {
     "name": "stdout",
     "output_type": "stream",
     "text": [
      "rideable_type              0\n",
      "started_at                 0\n",
      "ended_at                   0\n",
      "start_station_name    148231\n",
      "start_station_id      148857\n",
      "end_station_name      171416\n",
      "end_station_id        171877\n",
      "start_lat                  0\n",
      "start_lng                  0\n",
      "end_lat                 5005\n",
      "end_lng                 5005\n",
      "member_casual              0\n",
      "dtype: int64\n"
     ]
    }
   ],
   "source": [
    "# Check for missing values\n",
    "\n",
    "\n",
    "print(bike_share.isnull().sum())\n"
   ]
  },
  {
   "cell_type": "markdown",
   "id": "japanese-lodge",
   "metadata": {
    "papermill": {
     "duration": 0.038026,
     "end_time": "2021-06-09T16:30:48.010450",
     "exception": false,
     "start_time": "2021-06-09T16:30:47.972424",
     "status": "completed"
    },
    "tags": []
   },
   "source": [
    "We'll drop start_station_id and end_station_id columns as we're not intending to work with those two columns"
   ]
  },
  {
   "cell_type": "code",
   "execution_count": 8,
   "id": "phantom-toyota",
   "metadata": {
    "execution": {
     "iopub.execute_input": "2021-06-09T16:30:48.476982Z",
     "iopub.status.busy": "2021-06-09T16:30:48.361291Z",
     "iopub.status.idle": "2021-06-09T16:30:48.481211Z",
     "shell.execute_reply": "2021-06-09T16:30:48.480681Z",
     "shell.execute_reply.started": "2021-06-09T15:59:34.855502Z"
    },
    "papermill": {
     "duration": 0.431892,
     "end_time": "2021-06-09T16:30:48.481374",
     "exception": false,
     "start_time": "2021-06-09T16:30:48.049482",
     "status": "completed"
    },
    "scrolled": true,
    "tags": []
   },
   "outputs": [],
   "source": [
    "# Drop start_station_id and end_station_id  columns\n",
    "\n",
    "bike_share.drop(['start_station_id', 'end_station_id'], axis = 1, inplace = True)"
   ]
  },
  {
   "cell_type": "code",
   "execution_count": 9,
   "id": "alert-valley",
   "metadata": {
    "execution": {
     "iopub.execute_input": "2021-06-09T16:30:48.866905Z",
     "iopub.status.busy": "2021-06-09T16:30:48.865469Z",
     "iopub.status.idle": "2021-06-09T16:30:49.003714Z",
     "shell.execute_reply": "2021-06-09T16:30:49.003103Z",
     "shell.execute_reply.started": "2021-06-09T15:59:35.229714Z"
    },
    "papermill": {
     "duration": 0.483683,
     "end_time": "2021-06-09T16:30:49.003856",
     "exception": false,
     "start_time": "2021-06-09T16:30:48.520173",
     "status": "completed"
    },
    "tags": []
   },
   "outputs": [],
   "source": [
    "# Rename some columns for consistency and clarity\n",
    "\n",
    "bike_share = bike_share.rename(columns={'started_at': 'start_time', 'ended_at': 'end_time', \n",
    "                                            'start_station_name': 'start_station', 'end_station_name': 'end_station',\n",
    "                                            'member_casual': 'user_type'})"
   ]
  },
  {
   "cell_type": "code",
   "execution_count": 10,
   "id": "antique-kinase",
   "metadata": {
    "execution": {
     "iopub.execute_input": "2021-06-09T16:30:49.721398Z",
     "iopub.status.busy": "2021-06-09T16:30:49.087859Z",
     "iopub.status.idle": "2021-06-09T16:30:59.505186Z",
     "shell.execute_reply": "2021-06-09T16:30:59.504570Z",
     "shell.execute_reply.started": "2021-06-09T15:59:35.659770Z"
    },
    "papermill": {
     "duration": 10.463104,
     "end_time": "2021-06-09T16:30:59.505363",
     "exception": false,
     "start_time": "2021-06-09T16:30:49.042259",
     "status": "completed"
    },
    "tags": []
   },
   "outputs": [],
   "source": [
    "# Remove leading and trailing spaces from all entries in columns with object dtype\n",
    "\n",
    "object_cols = bike_share.select_dtypes('object').columns\n",
    "\n",
    "for col in object_cols:\n",
    "    bike_share[col] = bike_share[col].str.strip()\n",
    "    "
   ]
  },
  {
   "cell_type": "code",
   "execution_count": 11,
   "id": "attempted-digit",
   "metadata": {
    "execution": {
     "iopub.execute_input": "2021-06-09T16:30:59.811172Z",
     "iopub.status.busy": "2021-06-09T16:30:59.810481Z",
     "iopub.status.idle": "2021-06-09T16:31:22.917035Z",
     "shell.execute_reply": "2021-06-09T16:31:22.916221Z",
     "shell.execute_reply.started": "2021-06-09T15:59:41.972232Z"
    },
    "papermill": {
     "duration": 23.372891,
     "end_time": "2021-06-09T16:31:22.917210",
     "exception": false,
     "start_time": "2021-06-09T16:30:59.544319",
     "status": "completed"
    },
    "tags": []
   },
   "outputs": [],
   "source": [
    "# Convert trip start and end times to datetime format\n",
    "\n",
    "bike_share['start_time'] = pd.to_datetime(bike_share['start_time'])\n",
    "bike_share['end_time'] = pd.to_datetime(bike_share['end_time'])"
   ]
  },
  {
   "cell_type": "code",
   "execution_count": 14,
   "id": "driven-seminar",
   "metadata": {
    "execution": {
     "iopub.execute_input": "2021-06-09T16:31:23.002426Z",
     "iopub.status.busy": "2021-06-09T16:31:23.001700Z",
     "iopub.status.idle": "2021-06-09T16:31:23.077677Z",
     "shell.execute_reply": "2021-06-09T16:31:23.077020Z",
     "shell.execute_reply.started": "2021-06-09T16:00:01.559535Z"
    },
    "papermill": {
     "duration": 0.120544,
     "end_time": "2021-06-09T16:31:23.077843",
     "exception": false,
     "start_time": "2021-06-09T16:31:22.957299",
     "status": "completed"
    },
    "tags": []
   },
   "outputs": [],
   "source": [
    "# Calculate trip duration in minutes\n",
    "\n",
    "bike_share['trip_duration'] = (bike_share['end_time'] - bike_share['start_time'])/np.timedelta64(1, 'm')"
   ]
  },
  {
   "cell_type": "code",
   "execution_count": 15,
   "id": "specified-murray",
   "metadata": {
    "execution": {
     "iopub.execute_input": "2021-06-09T16:31:23.163412Z",
     "iopub.status.busy": "2021-06-09T16:31:23.162716Z",
     "iopub.status.idle": "2021-06-09T16:31:23.866271Z",
     "shell.execute_reply": "2021-06-09T16:31:23.865690Z",
     "shell.execute_reply.started": "2021-06-09T16:00:01.636759Z"
    },
    "papermill": {
     "duration": 0.74819,
     "end_time": "2021-06-09T16:31:23.866451",
     "exception": false,
     "start_time": "2021-06-09T16:31:23.118261",
     "status": "completed"
    },
    "tags": []
   },
   "outputs": [],
   "source": [
    "# Keep only trips that have a duration greater than 0\n",
    "\n",
    "bike_share = bike_share[bike_share['trip_duration'] > 0]"
   ]
  },
  {
   "cell_type": "code",
   "execution_count": 16,
   "id": "continent-shade",
   "metadata": {
    "execution": {
     "iopub.execute_input": "2021-06-09T16:31:23.948292Z",
     "iopub.status.busy": "2021-06-09T16:31:23.947303Z",
     "iopub.status.idle": "2021-06-09T16:31:24.810420Z",
     "shell.execute_reply": "2021-06-09T16:31:24.809762Z",
     "shell.execute_reply.started": "2021-06-09T16:00:04.139351Z"
    },
    "papermill": {
     "duration": 0.905428,
     "end_time": "2021-06-09T16:31:24.810560",
     "exception": false,
     "start_time": "2021-06-09T16:31:23.905132",
     "status": "completed"
    },
    "tags": []
   },
   "outputs": [],
   "source": [
    "# Extract day of week for every ride\n",
    "\n",
    "bike_share.loc[:, 'day_of_week'] = bike_share.loc[:, 'start_time'].dt.weekday"
   ]
  },
  {
   "cell_type": "code",
   "execution_count": 17,
   "id": "informative-wallace",
   "metadata": {
    "execution": {
     "iopub.execute_input": "2021-06-09T16:31:24.908135Z",
     "iopub.status.busy": "2021-06-09T16:31:24.907181Z",
     "iopub.status.idle": "2021-06-09T16:31:24.912116Z",
     "shell.execute_reply": "2021-06-09T16:31:24.911443Z",
     "shell.execute_reply.started": "2021-06-09T16:00:12.179959Z"
    },
    "papermill": {
     "duration": 0.06249,
     "end_time": "2021-06-09T16:31:24.912262",
     "exception": false,
     "start_time": "2021-06-09T16:31:24.849772",
     "status": "completed"
    },
    "scrolled": true,
    "tags": []
   },
   "outputs": [
    {
     "data": {
      "text/html": [
       "<div>\n",
       "<style scoped>\n",
       "    .dataframe tbody tr th:only-of-type {\n",
       "        vertical-align: middle;\n",
       "    }\n",
       "\n",
       "    .dataframe tbody tr th {\n",
       "        vertical-align: top;\n",
       "    }\n",
       "\n",
       "    .dataframe thead th {\n",
       "        text-align: right;\n",
       "    }\n",
       "</style>\n",
       "<table border=\"1\" class=\"dataframe\">\n",
       "  <thead>\n",
       "    <tr style=\"text-align: right;\">\n",
       "      <th></th>\n",
       "      <th>rideable_type</th>\n",
       "      <th>start_time</th>\n",
       "      <th>end_time</th>\n",
       "      <th>start_station</th>\n",
       "      <th>end_station</th>\n",
       "      <th>start_lat</th>\n",
       "      <th>start_lng</th>\n",
       "      <th>end_lat</th>\n",
       "      <th>end_lng</th>\n",
       "      <th>user_type</th>\n",
       "      <th>trip_duration</th>\n",
       "      <th>day_of_week</th>\n",
       "    </tr>\n",
       "    <tr>\n",
       "      <th>ride_id</th>\n",
       "      <th></th>\n",
       "      <th></th>\n",
       "      <th></th>\n",
       "      <th></th>\n",
       "      <th></th>\n",
       "      <th></th>\n",
       "      <th></th>\n",
       "      <th></th>\n",
       "      <th></th>\n",
       "      <th></th>\n",
       "      <th></th>\n",
       "      <th></th>\n",
       "    </tr>\n",
       "  </thead>\n",
       "  <tbody>\n",
       "    <tr>\n",
       "      <th>A847FADBBC638E45</th>\n",
       "      <td>docked_bike</td>\n",
       "      <td>2020-04-26 17:45:14</td>\n",
       "      <td>2020-04-26 18:12:03</td>\n",
       "      <td>Eckhart Park</td>\n",
       "      <td>Lincoln Ave &amp; Diversey Pkwy</td>\n",
       "      <td>41.8964</td>\n",
       "      <td>-87.6610</td>\n",
       "      <td>41.9322</td>\n",
       "      <td>-87.6586</td>\n",
       "      <td>member</td>\n",
       "      <td>26.816667</td>\n",
       "      <td>6</td>\n",
       "    </tr>\n",
       "    <tr>\n",
       "      <th>5405B80E996FF60D</th>\n",
       "      <td>docked_bike</td>\n",
       "      <td>2020-04-17 17:08:54</td>\n",
       "      <td>2020-04-17 17:17:03</td>\n",
       "      <td>Drake Ave &amp; Fullerton Ave</td>\n",
       "      <td>Kosciuszko Park</td>\n",
       "      <td>41.9244</td>\n",
       "      <td>-87.7154</td>\n",
       "      <td>41.9306</td>\n",
       "      <td>-87.7238</td>\n",
       "      <td>member</td>\n",
       "      <td>8.150000</td>\n",
       "      <td>4</td>\n",
       "    </tr>\n",
       "    <tr>\n",
       "      <th>5DD24A79A4E006F4</th>\n",
       "      <td>docked_bike</td>\n",
       "      <td>2020-04-01 17:54:13</td>\n",
       "      <td>2020-04-01 18:08:36</td>\n",
       "      <td>McClurg Ct &amp; Erie St</td>\n",
       "      <td>Indiana Ave &amp; Roosevelt Rd</td>\n",
       "      <td>41.8945</td>\n",
       "      <td>-87.6179</td>\n",
       "      <td>41.8679</td>\n",
       "      <td>-87.6230</td>\n",
       "      <td>member</td>\n",
       "      <td>14.383333</td>\n",
       "      <td>2</td>\n",
       "    </tr>\n",
       "    <tr>\n",
       "      <th>2A59BBDF5CDBA725</th>\n",
       "      <td>docked_bike</td>\n",
       "      <td>2020-04-07 12:50:19</td>\n",
       "      <td>2020-04-07 13:02:31</td>\n",
       "      <td>California Ave &amp; Division St</td>\n",
       "      <td>Wood St &amp; Augusta Blvd</td>\n",
       "      <td>41.9030</td>\n",
       "      <td>-87.6975</td>\n",
       "      <td>41.8992</td>\n",
       "      <td>-87.6722</td>\n",
       "      <td>member</td>\n",
       "      <td>12.200000</td>\n",
       "      <td>1</td>\n",
       "    </tr>\n",
       "    <tr>\n",
       "      <th>27AD306C119C6158</th>\n",
       "      <td>docked_bike</td>\n",
       "      <td>2020-04-18 10:22:59</td>\n",
       "      <td>2020-04-18 11:15:54</td>\n",
       "      <td>Rush St &amp; Hubbard St</td>\n",
       "      <td>Sheridan Rd &amp; Lawrence Ave</td>\n",
       "      <td>41.8902</td>\n",
       "      <td>-87.6262</td>\n",
       "      <td>41.9695</td>\n",
       "      <td>-87.6547</td>\n",
       "      <td>casual</td>\n",
       "      <td>52.916667</td>\n",
       "      <td>5</td>\n",
       "    </tr>\n",
       "  </tbody>\n",
       "</table>\n",
       "</div>"
      ],
      "text/plain": [
       "                 rideable_type          start_time            end_time  \\\n",
       "ride_id                                                                  \n",
       "A847FADBBC638E45   docked_bike 2020-04-26 17:45:14 2020-04-26 18:12:03   \n",
       "5405B80E996FF60D   docked_bike 2020-04-17 17:08:54 2020-04-17 17:17:03   \n",
       "5DD24A79A4E006F4   docked_bike 2020-04-01 17:54:13 2020-04-01 18:08:36   \n",
       "2A59BBDF5CDBA725   docked_bike 2020-04-07 12:50:19 2020-04-07 13:02:31   \n",
       "27AD306C119C6158   docked_bike 2020-04-18 10:22:59 2020-04-18 11:15:54   \n",
       "\n",
       "                                 start_station                  end_station  \\\n",
       "ride_id                                                                       \n",
       "A847FADBBC638E45                  Eckhart Park  Lincoln Ave & Diversey Pkwy   \n",
       "5405B80E996FF60D     Drake Ave & Fullerton Ave              Kosciuszko Park   \n",
       "5DD24A79A4E006F4          McClurg Ct & Erie St   Indiana Ave & Roosevelt Rd   \n",
       "2A59BBDF5CDBA725  California Ave & Division St       Wood St & Augusta Blvd   \n",
       "27AD306C119C6158          Rush St & Hubbard St   Sheridan Rd & Lawrence Ave   \n",
       "\n",
       "                  start_lat  start_lng  end_lat  end_lng user_type  \\\n",
       "ride_id                                                              \n",
       "A847FADBBC638E45    41.8964   -87.6610  41.9322 -87.6586    member   \n",
       "5405B80E996FF60D    41.9244   -87.7154  41.9306 -87.7238    member   \n",
       "5DD24A79A4E006F4    41.8945   -87.6179  41.8679 -87.6230    member   \n",
       "2A59BBDF5CDBA725    41.9030   -87.6975  41.8992 -87.6722    member   \n",
       "27AD306C119C6158    41.8902   -87.6262  41.9695 -87.6547    casual   \n",
       "\n",
       "                  trip_duration  day_of_week  \n",
       "ride_id                                       \n",
       "A847FADBBC638E45      26.816667            6  \n",
       "5405B80E996FF60D       8.150000            4  \n",
       "5DD24A79A4E006F4      14.383333            2  \n",
       "2A59BBDF5CDBA725      12.200000            1  \n",
       "27AD306C119C6158      52.916667            5  "
      ]
     },
     "execution_count": 17,
     "metadata": {},
     "output_type": "execute_result"
    }
   ],
   "source": [
    "bike_share.head()"
   ]
  },
  {
   "cell_type": "markdown",
   "id": "medium-watch",
   "metadata": {
    "papermill": {
     "duration": 0.039601,
     "end_time": "2021-06-09T16:31:24.991062",
     "exception": false,
     "start_time": "2021-06-09T16:31:24.951461",
     "status": "completed"
    },
    "tags": []
   },
   "source": [
    "Let's fill the missing values of end_lat and end_lng columns with the average latitude and longitude values of the corresponding station. "
   ]
  },
  {
   "cell_type": "code",
   "execution_count": 18,
   "id": "transsexual-restaurant",
   "metadata": {
    "execution": {
     "iopub.execute_input": "2021-06-09T16:31:25.077480Z",
     "iopub.status.busy": "2021-06-09T16:31:25.076821Z",
     "iopub.status.idle": "2021-06-09T16:31:25.581974Z",
     "shell.execute_reply": "2021-06-09T16:31:25.581432Z",
     "shell.execute_reply.started": "2021-06-09T16:00:30.024127Z"
    },
    "papermill": {
     "duration": 0.55136,
     "end_time": "2021-06-09T16:31:25.582116",
     "exception": false,
     "start_time": "2021-06-09T16:31:25.030756",
     "status": "completed"
    },
    "scrolled": true,
    "tags": []
   },
   "outputs": [
    {
     "data": {
      "text/html": [
       "<div>\n",
       "<style scoped>\n",
       "    .dataframe tbody tr th:only-of-type {\n",
       "        vertical-align: middle;\n",
       "    }\n",
       "\n",
       "    .dataframe tbody tr th {\n",
       "        vertical-align: top;\n",
       "    }\n",
       "\n",
       "    .dataframe thead th {\n",
       "        text-align: right;\n",
       "    }\n",
       "</style>\n",
       "<table border=\"1\" class=\"dataframe\">\n",
       "  <thead>\n",
       "    <tr style=\"text-align: right;\">\n",
       "      <th></th>\n",
       "      <th>end_lat</th>\n",
       "      <th>end_lng</th>\n",
       "    </tr>\n",
       "    <tr>\n",
       "      <th>start_station</th>\n",
       "      <th></th>\n",
       "      <th></th>\n",
       "    </tr>\n",
       "  </thead>\n",
       "  <tbody>\n",
       "    <tr>\n",
       "      <th>2112 W Peterson Ave</th>\n",
       "      <td>41.982532</td>\n",
       "      <td>-87.676120</td>\n",
       "    </tr>\n",
       "    <tr>\n",
       "      <th>63rd St Beach</th>\n",
       "      <td>41.796585</td>\n",
       "      <td>-87.586351</td>\n",
       "    </tr>\n",
       "    <tr>\n",
       "      <th>900 W Harrison St</th>\n",
       "      <td>41.875784</td>\n",
       "      <td>-87.649671</td>\n",
       "    </tr>\n",
       "    <tr>\n",
       "      <th>Aberdeen St &amp; Jackson Blvd</th>\n",
       "      <td>41.881265</td>\n",
       "      <td>-87.650307</td>\n",
       "    </tr>\n",
       "    <tr>\n",
       "      <th>Aberdeen St &amp; Monroe St</th>\n",
       "      <td>41.886367</td>\n",
       "      <td>-87.645339</td>\n",
       "    </tr>\n",
       "  </tbody>\n",
       "</table>\n",
       "</div>"
      ],
      "text/plain": [
       "                              end_lat    end_lng\n",
       "start_station                                   \n",
       "2112 W Peterson Ave         41.982532 -87.676120\n",
       "63rd St Beach               41.796585 -87.586351\n",
       "900 W Harrison St           41.875784 -87.649671\n",
       "Aberdeen St & Jackson Blvd  41.881265 -87.650307\n",
       "Aberdeen St & Monroe St     41.886367 -87.645339"
      ]
     },
     "execution_count": 18,
     "metadata": {},
     "output_type": "execute_result"
    }
   ],
   "source": [
    "# Average end of trip latitude and longitude for each station\n",
    "\n",
    "cordinate_m = bike_share.groupby('start_station')[['end_lat', 'end_lng']].mean()\n",
    "cordinate_m.head()"
   ]
  },
  {
   "cell_type": "code",
   "execution_count": 19,
   "id": "worthy-analysis",
   "metadata": {
    "execution": {
     "iopub.execute_input": "2021-06-09T16:31:25.666948Z",
     "iopub.status.busy": "2021-06-09T16:31:25.666292Z",
     "iopub.status.idle": "2021-06-09T16:31:25.683893Z",
     "shell.execute_reply": "2021-06-09T16:31:25.683236Z",
     "shell.execute_reply.started": "2021-06-09T16:00:38.691267Z"
    },
    "papermill": {
     "duration": 0.062236,
     "end_time": "2021-06-09T16:31:25.684034",
     "exception": false,
     "start_time": "2021-06-09T16:31:25.621798",
     "status": "completed"
    },
    "scrolled": true,
    "tags": []
   },
   "outputs": [],
   "source": [
    "# Index locations where the dataset is missing end latitude and end longitude information\n",
    "\n",
    "indices_wo_end_cordinate_m = bike_share[bike_share['end_lat'].isnull()].index"
   ]
  },
  {
   "cell_type": "code",
   "execution_count": null,
   "id": "subtle-prescription",
   "metadata": {
    "execution": {
     "iopub.execute_input": "2021-06-09T16:31:28.491974Z",
     "iopub.status.busy": "2021-06-09T16:31:28.491270Z",
     "iopub.status.idle": "2021-06-09T16:34:55.585218Z",
     "shell.execute_reply": "2021-06-09T16:34:55.585758Z",
     "shell.execute_reply.started": "2021-06-09T16:00:44.202139Z"
    },
    "papermill": {
     "duration": 209.862228,
     "end_time": "2021-06-09T16:34:55.586009",
     "exception": false,
     "start_time": "2021-06-09T16:31:25.723781",
     "status": "completed"
    },
    "tags": []
   },
   "outputs": [],
   "source": [
    "# Fill in with missing values for trip end latitude and longitude\n",
    "\n",
    "for index in indices_wo_end_cordinate_m:\n",
    "    station = bike_share.loc[index, 'start_station']\n",
    "    bike_share.loc[index, 'end_lat'] = cordinate_m.loc[station,'end_lat']\n",
    "    bike_share.loc[index, 'end_lng'] = cordinate_m.loc[station,'end_lng']"
   ]
  },
  {
   "cell_type": "markdown",
   "id": "outer-crime",
   "metadata": {
    "papermill": {
     "duration": 0.039295,
     "end_time": "2021-06-09T16:34:55.666837",
     "exception": false,
     "start_time": "2021-06-09T16:34:55.627542",
     "status": "completed"
    },
    "tags": []
   },
   "source": [
    "## Data Analysis"
   ]
  },
  {
   "cell_type": "markdown",
   "id": "responsible-playback",
   "metadata": {
    "papermill": {
     "duration": 0.039877,
     "end_time": "2021-06-09T16:34:55.746656",
     "exception": false,
     "start_time": "2021-06-09T16:34:55.706779",
     "status": "completed"
    },
    "tags": []
   },
   "source": [
    "Let's start our analysis by finding out the proportions of annual members rides and casual rides in the dataset"
   ]
  },
  {
   "cell_type": "code",
   "execution_count": 56,
   "id": "assisted-quilt",
   "metadata": {
    "execution": {
     "iopub.execute_input": "2021-06-09T16:34:55.884560Z",
     "iopub.status.busy": "2021-06-09T16:34:55.883793Z",
     "iopub.status.idle": "2021-06-09T16:34:56.721252Z",
     "shell.execute_reply": "2021-06-09T16:34:56.720704Z",
     "shell.execute_reply.started": "2021-06-09T16:04:06.609739Z"
    },
    "papermill": {
     "duration": 0.934774,
     "end_time": "2021-06-09T16:34:56.721431",
     "exception": false,
     "start_time": "2021-06-09T16:34:55.786657",
     "status": "completed"
    },
    "scrolled": true,
    "tags": []
   },
   "outputs": [
    {
     "data": {
      "text/plain": [
       "Text(0, 0.5, '')"
      ]
     },
     "execution_count": 56,
     "metadata": {},
     "output_type": "execute_result"
    },
    {
     "data": {
      "image/png": "[encoded data removed]",
      "text/plain": [
       "<Figure size 432x288 with 1 Axes>"
      ]
     },
     "metadata": {},
     "output_type": "display_data"
    }
   ],
   "source": [
    "# casual rides vs members rides shown as percentage\n",
    "\n",
    "bike_share.groupby('user_type')['user_type'].count().plot(kind = 'pie', autopct='%7.9f%%')\n",
    "plt.title('Proportion of casual rides vs members rides')\n",
    "plt.ylabel(\"\")"
   ]
  },
  {
   "cell_type": "markdown",
   "id": "chinese-consequence",
   "metadata": {
    "papermill": {
     "duration": 0.040732,
     "end_time": "2021-06-09T16:34:56.802939",
     "exception": false,
     "start_time": "2021-06-09T16:34:56.762207",
     "status": "completed"
    },
    "tags": []
   },
   "source": [
    "**More than 40% of bike trips in the last 12 months are from casual riders, hence the objective of converting them to annual members to grab more revenue.**"
   ]
  },
  {
   "cell_type": "markdown",
   "id": "impressed-animal",
   "metadata": {
    "papermill": {
     "duration": 0.04039,
     "end_time": "2021-06-09T16:34:56.884316",
     "exception": false,
     "start_time": "2021-06-09T16:34:56.843926",
     "status": "completed"
    },
    "tags": []
   },
   "source": [
    "Now we'll have a look have at how casual riders differ from annual members by calculating the average trip duration for each type of user."
   ]
  },
  {
   "cell_type": "code",
   "execution_count": 26,
   "id": "received-humanitarian",
   "metadata": {
    "execution": {
     "iopub.execute_input": "2021-06-09T16:34:57.024374Z",
     "iopub.status.busy": "2021-06-09T16:34:57.022584Z",
     "iopub.status.idle": "2021-06-09T16:34:57.557065Z",
     "shell.execute_reply": "2021-06-09T16:34:57.556529Z",
     "shell.execute_reply.started": "2021-06-09T16:04:48.211836Z"
    },
    "papermill": {
     "duration": 0.632064,
     "end_time": "2021-06-09T16:34:57.557216",
     "exception": false,
     "start_time": "2021-06-09T16:34:56.925152",
     "status": "completed"
    },
    "scrolled": true,
    "tags": []
   },
   "outputs": [
    {
     "data": {
      "text/html": [
       "<div>\n",
       "<style scoped>\n",
       "    .dataframe tbody tr th:only-of-type {\n",
       "        vertical-align: middle;\n",
       "    }\n",
       "\n",
       "    .dataframe tbody tr th {\n",
       "        vertical-align: top;\n",
       "    }\n",
       "\n",
       "    .dataframe thead th {\n",
       "        text-align: right;\n",
       "    }\n",
       "</style>\n",
       "<table border=\"1\" class=\"dataframe\">\n",
       "  <thead>\n",
       "    <tr style=\"text-align: right;\">\n",
       "      <th></th>\n",
       "      <th>count</th>\n",
       "      <th>min</th>\n",
       "      <th>mean</th>\n",
       "      <th>max</th>\n",
       "      <th>median</th>\n",
       "      <th>std</th>\n",
       "    </tr>\n",
       "    <tr>\n",
       "      <th>user_type</th>\n",
       "      <th></th>\n",
       "      <th></th>\n",
       "      <th></th>\n",
       "      <th></th>\n",
       "      <th></th>\n",
       "      <th></th>\n",
       "    </tr>\n",
       "  </thead>\n",
       "  <tbody>\n",
       "    <tr>\n",
       "      <th>casual</th>\n",
       "      <td>1563282</td>\n",
       "      <td>0.016667</td>\n",
       "      <td>44.368964</td>\n",
       "      <td>55683.883333</td>\n",
       "      <td>20.933333</td>\n",
       "      <td>374.128813</td>\n",
       "    </tr>\n",
       "    <tr>\n",
       "      <th>member</th>\n",
       "      <td>2252230</td>\n",
       "      <td>0.016667</td>\n",
       "      <td>15.989799</td>\n",
       "      <td>58720.033333</td>\n",
       "      <td>11.383333</td>\n",
       "      <td>88.623406</td>\n",
       "    </tr>\n",
       "  </tbody>\n",
       "</table>\n",
       "</div>"
      ],
      "text/plain": [
       "             count       min       mean           max     median         std\n",
       "user_type                                                                   \n",
       "casual     1563282  0.016667  44.368964  55683.883333  20.933333  374.128813\n",
       "member     2252230  0.016667  15.989799  58720.033333  11.383333   88.623406"
      ]
     },
     "execution_count": 26,
     "metadata": {},
     "output_type": "execute_result"
    }
   ],
   "source": [
    "df1 = bike_share.groupby('user_type')['trip_duration'].agg(['count','min', 'mean', 'max', 'median', 'std'])\n",
    "df1"
   ]
  },
  {
   "cell_type": "code",
   "execution_count": 27,
   "id": "tutorial-paste",
   "metadata": {
    "execution": {
     "iopub.execute_input": "2021-06-09T16:34:57.672616Z",
     "iopub.status.busy": "2021-06-09T16:34:57.671936Z",
     "iopub.status.idle": "2021-06-09T16:34:57.783269Z",
     "shell.execute_reply": "2021-06-09T16:34:57.783851Z",
     "shell.execute_reply.started": "2021-06-09T16:05:37.756732Z"
    },
    "papermill": {
     "duration": 0.185538,
     "end_time": "2021-06-09T16:34:57.784056",
     "exception": false,
     "start_time": "2021-06-09T16:34:57.598518",
     "status": "completed"
    },
    "tags": []
   },
   "outputs": [
    {
     "data": {
      "text/plain": [
       "Text(0.5, 1.0, 'Average trip duration by user type')"
      ]
     },
     "execution_count": 27,
     "metadata": {},
     "output_type": "execute_result"
    },
    {
     "data": {
      "image/png": "[encoded data removed]",
      "text/plain": [
       "<Figure size 432x288 with 1 Axes>"
      ]
     },
     "metadata": {
      "needs_background": "light"
     },
     "output_type": "display_data"
    }
   ],
   "source": [
    "# Average trip duration by user type\n",
    "\n",
    "df1['mean'].plot(kind = 'bar', color = 'g')\n",
    "plt.xlabel ('Type of user')\n",
    "plt.ylabel ('Average trip duration in minutes')\n",
    "plt.title('Average trip duration by user type')"
   ]
  },
  {
   "cell_type": "markdown",
   "id": "ultimate-packet",
   "metadata": {
    "papermill": {
     "duration": 0.042525,
     "end_time": "2021-06-09T16:34:57.869552",
     "exception": false,
     "start_time": "2021-06-09T16:34:57.827027",
     "status": "completed"
    },
    "tags": []
   },
   "source": [
    "**Average trip duration of casual riders is about 3 times higher than annual members average trip duration. So let's estimate the average distance travelled by each type of customer to see what kind of conclusions we can possibly draw.**\n",
    "\n",
    "We'll use Haversine formula calculate the distance travelled for each trip using latitude and longitude coordinates. We can already point out that this calculated distance will have one evident shortcoming as round trips i.e. trips that start and end at the same station will account for 0 km travelled.  \n",
    "\n",
    "So let us first investigate the proportion of round trips in our dataset."
   ]
  },
  {
   "cell_type": "code",
   "execution_count": 29,
   "id": "bearing-scope",
   "metadata": {
    "execution": {
     "iopub.execute_input": "2021-06-09T16:34:57.959979Z",
     "iopub.status.busy": "2021-06-09T16:34:57.959136Z",
     "iopub.status.idle": "2021-06-09T16:34:58.682255Z",
     "shell.execute_reply": "2021-06-09T16:34:58.682781Z",
     "shell.execute_reply.started": "2021-06-09T16:06:20.213676Z"
    },
    "papermill": {
     "duration": 0.770242,
     "end_time": "2021-06-09T16:34:58.682989",
     "exception": false,
     "start_time": "2021-06-09T16:34:57.912747",
     "status": "completed"
    },
    "scrolled": true,
    "tags": []
   },
   "outputs": [
    {
     "data": {
      "text/plain": [
       "0.10221354303170846"
      ]
     },
     "execution_count": 29,
     "metadata": {},
     "output_type": "execute_result"
    }
   ],
   "source": [
    "# Proportion of round trips in the entire dataset\n",
    "\n",
    "bike_share[bike_share['start_station'] == bike_share['end_station']].shape[0] / bike_share.shape[0]\n"
   ]
  },
  {
   "cell_type": "code",
   "execution_count": 31,
   "id": "electric-commonwealth",
   "metadata": {
    "execution": {
     "iopub.execute_input": "2021-06-09T16:34:58.772989Z",
     "iopub.status.busy": "2021-06-09T16:34:58.772342Z",
     "iopub.status.idle": "2021-06-09T16:34:59.833304Z",
     "shell.execute_reply": "2021-06-09T16:34:59.832624Z",
     "shell.execute_reply.started": "2021-06-09T16:06:26.512845Z"
    },
    "papermill": {
     "duration": 1.107333,
     "end_time": "2021-06-09T16:34:59.833495",
     "exception": false,
     "start_time": "2021-06-09T16:34:58.726162",
     "status": "completed"
    },
    "scrolled": true,
    "tags": []
   },
   "outputs": [
    {
     "data": {
      "text/plain": [
       "0.17068705454294233"
      ]
     },
     "execution_count": 31,
     "metadata": {},
     "output_type": "execute_result"
    }
   ],
   "source": [
    "# Proportion of round trips within casual rides\n",
    "\n",
    "casual_rides = bike_share[bike_share['user_type']=='casual']\n",
    "\n",
    "casual_rides[casual_rides['start_station'] == casual_rides['end_station']].shape[0] / casual_rides.shape[0]"
   ]
  },
  {
   "cell_type": "code",
   "execution_count": 33,
   "id": "polar-inflation",
   "metadata": {
    "execution": {
     "iopub.execute_input": "2021-06-09T16:35:00.440881Z",
     "iopub.status.busy": "2021-06-09T16:35:00.440124Z",
     "iopub.status.idle": "2021-06-09T16:35:01.133261Z",
     "shell.execute_reply": "2021-06-09T16:35:01.132373Z",
     "shell.execute_reply.started": "2021-06-09T16:06:39.073186Z"
    },
    "papermill": {
     "duration": 1.256533,
     "end_time": "2021-06-09T16:35:01.133472",
     "exception": false,
     "start_time": "2021-06-09T16:34:59.876939",
     "status": "completed"
    },
    "tags": []
   },
   "outputs": [
    {
     "data": {
      "text/plain": [
       "0.054685800295706924"
      ]
     },
     "execution_count": 33,
     "metadata": {},
     "output_type": "execute_result"
    }
   ],
   "source": [
    "# Proportion of round trips within annual members rides\n",
    "\n",
    "member_rides = bike_share[bike_share['user_type']=='member']\n",
    "\n",
    "member_rides[member_rides['start_station'] == member_rides['end_station']].shape[0] / member_rides.shape[0]"
   ]
  },
  {
   "cell_type": "markdown",
   "id": "flush-university",
   "metadata": {
    "papermill": {
     "duration": 0.045369,
     "end_time": "2021-06-09T16:35:01.223314",
     "exception": false,
     "start_time": "2021-06-09T16:35:01.177945",
     "status": "completed"
    },
    "tags": []
   },
   "source": [
    "**We have about 10% of all rides being round trips, so overall it should not significantly affect the average travelled distance calculation.  \n",
    "However the average distance travelled for casual rides will be less accurate than the one for their annual members counterpart, because round trips within casual rides account for 16.7% as compared to 5.2% round trips within annual members rides.** "
   ]
  },
  {
   "cell_type": "code",
   "execution_count": 35,
   "id": "involved-consultancy",
   "metadata": {
    "execution": {
     "iopub.execute_input": "2021-06-09T16:35:01.335205Z",
     "iopub.status.busy": "2021-06-09T16:35:01.333705Z",
     "iopub.status.idle": "2021-06-09T16:35:01.711696Z",
     "shell.execute_reply": "2021-06-09T16:35:01.711074Z",
     "shell.execute_reply.started": "2021-06-09T16:27:29.633205Z"
    },
    "papermill": {
     "duration": 0.443089,
     "end_time": "2021-06-09T16:35:01.711860",
     "exception": false,
     "start_time": "2021-06-09T16:35:01.268771",
     "status": "completed"
    },
    "tags": []
   },
   "outputs": [],
   "source": [
    "# Calculate travelled distance for each ride in the dataset (using Haversine formula)\n",
    "\n",
    "p = np.pi/180\n",
    "\n",
    "delta_lat = (bike_share['end_lat']-bike_share['start_lat'])*p \n",
    "delta_lng = (bike_share['end_lng']-bike_share['start_lng'])*p\n",
    "a = np.sin(delta_lat/2)**2 + np.cos(bike_share['start_lat']*p) * np.cos(bike_share['end_lat']*p) * np.sin(delta_lng/2)**2\n",
    "\n",
    "bike_share['trip_distance'] = 12742 * np.arcsin(np.sqrt(a))"
   ]
  },
  {
   "cell_type": "code",
   "execution_count": 37,
   "id": "announced-brief",
   "metadata": {
    "execution": {
     "iopub.execute_input": "2021-06-09T16:35:01.859993Z",
     "iopub.status.busy": "2021-06-09T16:35:01.858175Z",
     "iopub.status.idle": "2021-06-09T16:35:02.231942Z",
     "shell.execute_reply": "2021-06-09T16:35:02.231279Z",
     "shell.execute_reply.started": "2021-06-09T16:27:30.451974Z"
    },
    "papermill": {
     "duration": 0.476352,
     "end_time": "2021-06-09T16:35:02.232088",
     "exception": false,
     "start_time": "2021-06-09T16:35:01.755736",
     "status": "completed"
    },
    "tags": []
   },
   "outputs": [
    {
     "data": {
      "text/plain": [
       "Text(0.5, 1.0, 'Average distance travelled by user type')"
      ]
     },
     "execution_count": 37,
     "metadata": {},
     "output_type": "execute_result"
    },
    {
     "data": {
      "image/png": "[encoded data removed]",
      "text/plain": [
       "<Figure size 432x288 with 1 Axes>"
      ]
     },
     "metadata": {
      "needs_background": "light"
     },
     "output_type": "display_data"
    }
   ],
   "source": [
    "# Average trip distance by user type\n",
    "\n",
    "bike_share.groupby('user_type')['trip_distance'].mean().plot(kind = 'bar', color = 'g')\n",
    "plt.xlabel ('Type of user')\n",
    "plt.ylabel ('Average trip distance in km')\n",
    "plt.title('Average distance travelled by user type')"
   ]
  },
  {
   "cell_type": "markdown",
   "id": "hairy-domain",
   "metadata": {
    "papermill": {
     "duration": 0.043602,
     "end_time": "2021-06-09T16:35:02.320080",
     "exception": false,
     "start_time": "2021-06-09T16:35:02.276478",
     "status": "completed"
    },
    "tags": []
   },
   "source": [
    "**The average distance travelled by the two user types is approximately the same, so this implies that on average casual rides happen at a much slower pace which suggest that casual riders use the service for leisure and touristic activities. On the other, annual members use the service for more pragmatic goals like working out or commuting to work.**"
   ]
  },
  {
   "cell_type": "markdown",
   "id": "hungry-demand",
   "metadata": {
    "papermill": {
     "duration": 0.043601,
     "end_time": "2021-06-09T16:35:02.407448",
     "exception": false,
     "start_time": "2021-06-09T16:35:02.363847",
     "status": "completed"
    },
    "tags": []
   },
   "source": [
    "Now we'll explore how the days of the week affect trip taken by each type of customer."
   ]
  },
  {
   "cell_type": "code",
   "execution_count": 38,
   "id": "interpreted-luther",
   "metadata": {
    "execution": {
     "iopub.execute_input": "2021-06-09T16:35:02.699826Z",
     "iopub.status.busy": "2021-06-09T16:35:02.553348Z",
     "iopub.status.idle": "2021-06-09T16:35:03.099077Z",
     "shell.execute_reply": "2021-06-09T16:35:03.099590Z",
     "shell.execute_reply.started": "2021-06-09T16:27:32.764854Z"
    },
    "papermill": {
     "duration": 0.648409,
     "end_time": "2021-06-09T16:35:03.099810",
     "exception": false,
     "start_time": "2021-06-09T16:35:02.451401",
     "status": "completed"
    },
    "tags": []
   },
   "outputs": [
    {
     "data": {
      "text/html": [
       "<div>\n",
       "<style scoped>\n",
       "    .dataframe tbody tr th:only-of-type {\n",
       "        vertical-align: middle;\n",
       "    }\n",
       "\n",
       "    .dataframe tbody tr th {\n",
       "        vertical-align: top;\n",
       "    }\n",
       "\n",
       "    .dataframe thead th {\n",
       "        text-align: right;\n",
       "    }\n",
       "</style>\n",
       "<table border=\"1\" class=\"dataframe\">\n",
       "  <thead>\n",
       "    <tr style=\"text-align: right;\">\n",
       "      <th></th>\n",
       "      <th></th>\n",
       "      <th>count</th>\n",
       "      <th>mean</th>\n",
       "      <th>median</th>\n",
       "      <th>percent</th>\n",
       "    </tr>\n",
       "    <tr>\n",
       "      <th>user_type</th>\n",
       "      <th>day_of_week</th>\n",
       "      <th></th>\n",
       "      <th></th>\n",
       "      <th></th>\n",
       "      <th></th>\n",
       "    </tr>\n",
       "  </thead>\n",
       "  <tbody>\n",
       "    <tr>\n",
       "      <th rowspan=\"7\" valign=\"top\">casual</th>\n",
       "      <th>0</th>\n",
       "      <td>167162</td>\n",
       "      <td>44.237732</td>\n",
       "      <td>20.483333</td>\n",
       "      <td>0.361675</td>\n",
       "    </tr>\n",
       "    <tr>\n",
       "      <th>1</th>\n",
       "      <td>165613</td>\n",
       "      <td>40.374418</td>\n",
       "      <td>19.083333</td>\n",
       "      <td>0.343757</td>\n",
       "    </tr>\n",
       "    <tr>\n",
       "      <th>2</th>\n",
       "      <td>170355</td>\n",
       "      <td>40.167836</td>\n",
       "      <td>18.316667</td>\n",
       "      <td>0.340200</td>\n",
       "    </tr>\n",
       "    <tr>\n",
       "      <th>3</th>\n",
       "      <td>178694</td>\n",
       "      <td>41.733991</td>\n",
       "      <td>18.233333</td>\n",
       "      <td>0.352331</td>\n",
       "    </tr>\n",
       "    <tr>\n",
       "      <th>4</th>\n",
       "      <td>231402</td>\n",
       "      <td>42.615524</td>\n",
       "      <td>19.366667</td>\n",
       "      <td>0.403478</td>\n",
       "    </tr>\n",
       "    <tr>\n",
       "      <th>5</th>\n",
       "      <td>362683</td>\n",
       "      <td>46.175269</td>\n",
       "      <td>23.233333</td>\n",
       "      <td>0.509123</td>\n",
       "    </tr>\n",
       "    <tr>\n",
       "      <th>6</th>\n",
       "      <td>287373</td>\n",
       "      <td>50.008519</td>\n",
       "      <td>24.333333</td>\n",
       "      <td>0.497411</td>\n",
       "    </tr>\n",
       "    <tr>\n",
       "      <th rowspan=\"7\" valign=\"top\">member</th>\n",
       "      <th>0</th>\n",
       "      <td>295027</td>\n",
       "      <td>15.254249</td>\n",
       "      <td>10.766667</td>\n",
       "      <td>0.638325</td>\n",
       "    </tr>\n",
       "    <tr>\n",
       "      <th>1</th>\n",
       "      <td>316161</td>\n",
       "      <td>15.067084</td>\n",
       "      <td>10.833333</td>\n",
       "      <td>0.656243</td>\n",
       "    </tr>\n",
       "    <tr>\n",
       "      <th>2</th>\n",
       "      <td>330395</td>\n",
       "      <td>15.172469</td>\n",
       "      <td>10.833333</td>\n",
       "      <td>0.659800</td>\n",
       "    </tr>\n",
       "    <tr>\n",
       "      <th>3</th>\n",
       "      <td>328482</td>\n",
       "      <td>15.043838</td>\n",
       "      <td>10.800000</td>\n",
       "      <td>0.647669</td>\n",
       "    </tr>\n",
       "    <tr>\n",
       "      <th>4</th>\n",
       "      <td>342116</td>\n",
       "      <td>15.643248</td>\n",
       "      <td>11.150000</td>\n",
       "      <td>0.596522</td>\n",
       "    </tr>\n",
       "    <tr>\n",
       "      <th>5</th>\n",
       "      <td>349685</td>\n",
       "      <td>17.698516</td>\n",
       "      <td>12.833333</td>\n",
       "      <td>0.490877</td>\n",
       "    </tr>\n",
       "    <tr>\n",
       "      <th>6</th>\n",
       "      <td>290364</td>\n",
       "      <td>18.092524</td>\n",
       "      <td>12.883333</td>\n",
       "      <td>0.502589</td>\n",
       "    </tr>\n",
       "  </tbody>\n",
       "</table>\n",
       "</div>"
      ],
      "text/plain": [
       "                        count       mean     median   percent\n",
       "user_type day_of_week                                        \n",
       "casual    0            167162  44.237732  20.483333  0.361675\n",
       "          1            165613  40.374418  19.083333  0.343757\n",
       "          2            170355  40.167836  18.316667  0.340200\n",
       "          3            178694  41.733991  18.233333  0.352331\n",
       "          4            231402  42.615524  19.366667  0.403478\n",
       "          5            362683  46.175269  23.233333  0.509123\n",
       "          6            287373  50.008519  24.333333  0.497411\n",
       "member    0            295027  15.254249  10.766667  0.638325\n",
       "          1            316161  15.067084  10.833333  0.656243\n",
       "          2            330395  15.172469  10.833333  0.659800\n",
       "          3            328482  15.043838  10.800000  0.647669\n",
       "          4            342116  15.643248  11.150000  0.596522\n",
       "          5            349685  17.698516  12.833333  0.490877\n",
       "          6            290364  18.092524  12.883333  0.502589"
      ]
     },
     "execution_count": 38,
     "metadata": {},
     "output_type": "execute_result"
    }
   ],
   "source": [
    "# Number of rides by user type and day of the week\n",
    "\n",
    "df2 = bike_share.groupby(['user_type','day_of_week'])['trip_duration'].agg(['count', 'mean', 'median'])\n",
    "\n",
    "for i in range (7):\n",
    "    daily_users = df2.loc[('casual', i), 'count'] + df2.loc[('member', i), 'count']\n",
    "    df2.loc[('casual', i), 'percent'] = df2.loc[('casual', i), 'count'] / daily_users\n",
    "    df2.loc[('member', i), 'percent'] = df2.loc[('member', i), 'count'] / daily_users\n",
    "df2"
   ]
  },
  {
   "cell_type": "code",
   "execution_count": 39,
   "id": "conceptual-failure",
   "metadata": {
    "execution": {
     "iopub.execute_input": "2021-06-09T16:35:03.233458Z",
     "iopub.status.busy": "2021-06-09T16:35:03.200392Z",
     "iopub.status.idle": "2021-06-09T16:35:03.439816Z",
     "shell.execute_reply": "2021-06-09T16:35:03.439254Z",
     "shell.execute_reply.started": "2021-06-09T16:27:34.694269Z"
    },
    "papermill": {
     "duration": 0.294268,
     "end_time": "2021-06-09T16:35:03.439977",
     "exception": false,
     "start_time": "2021-06-09T16:35:03.145709",
     "status": "completed"
    },
    "tags": []
   },
   "outputs": [
    {
     "data": {
      "text/plain": [
       "<matplotlib.legend.Legend at 0x266029ff3d0>"
      ]
     },
     "execution_count": 39,
     "metadata": {},
     "output_type": "execute_result"
    },
    {
     "data": {
      "image/png": "[encoded data removed]",
      "text/plain": [
       "<Figure size 432x288 with 1 Axes>"
      ]
     },
     "metadata": {
      "needs_background": "light"
     },
     "output_type": "display_data"
    }
   ],
   "source": [
    "# Number of trips by user type on each day of the week\n",
    "\n",
    "df2.loc[('casual', range(7)), 'count'].plot(label = 'casual')\n",
    "df2.loc[('member', range(7)), 'count'].plot(label = 'member')\n",
    "\n",
    "locs, labels = plt.xticks()\n",
    "plt.xticks(locs, [\"\",'Mon', 'Tue', 'Wed', 'Thu', 'Fri', 'Sat', 'Sun', \"\"])\n",
    "plt.xlabel ('Day of the week')\n",
    "plt.ylabel ('Number of trips')\n",
    "plt.ylim(0)\n",
    "plt.title('Daily number of trips by user type')\n",
    "plt.legend()"
   ]
  },
  {
   "cell_type": "code",
   "execution_count": 40,
   "id": "piano-convention",
   "metadata": {
    "execution": {
     "iopub.execute_input": "2021-06-09T16:35:03.558668Z",
     "iopub.status.busy": "2021-06-09T16:35:03.549165Z",
     "iopub.status.idle": "2021-06-09T16:35:03.752535Z",
     "shell.execute_reply": "2021-06-09T16:35:03.751349Z",
     "shell.execute_reply.started": "2021-06-09T16:27:35.352813Z"
    },
    "papermill": {
     "duration": 0.265992,
     "end_time": "2021-06-09T16:35:03.752735",
     "exception": false,
     "start_time": "2021-06-09T16:35:03.486743",
     "status": "completed"
    },
    "tags": []
   },
   "outputs": [
    {
     "data": {
      "text/plain": [
       "<matplotlib.legend.Legend at 0x26602a68070>"
      ]
     },
     "execution_count": 40,
     "metadata": {},
     "output_type": "execute_result"
    },
    {
     "data": {
      "image/png": "[encoded data removed]",
      "text/plain": [
       "<Figure size 432x288 with 1 Axes>"
      ]
     },
     "metadata": {
      "needs_background": "light"
     },
     "output_type": "display_data"
    }
   ],
   "source": [
    "# Percentage of trips by user type on each day of the week\n",
    "\n",
    "df2.loc[('casual', range(7)), 'percent'].plot(label = 'casual')\n",
    "df2.loc[('member', range(7)), 'percent'].plot(label='member')\n",
    "\n",
    "locs, labels = plt.xticks()\n",
    "plt.xticks(locs, [\"\",'Mon', 'Tue', 'Wed', 'Thu', 'Fri', 'Sat', 'Sun', \"\"])\n",
    "plt.xlabel ('Day of the week')\n",
    "plt.ylabel ('% of rides')\n",
    "plt.title('Percentage of trips by user type')\n",
    "plt.ylim(0)\n",
    "plt.legend()"
   ]
  },
  {
   "cell_type": "markdown",
   "id": "invalid-working",
   "metadata": {
    "papermill": {
     "duration": 0.04816,
     "end_time": "2021-06-09T16:35:03.848942",
     "exception": false,
     "start_time": "2021-06-09T16:35:03.800782",
     "status": "completed"
    },
    "tags": []
   },
   "source": [
    "**The number of trips is pretty steady from Monday to Thursday for both type of users. About 65% for members and 35% for casual users.\n",
    "On Friday, the number of casual rides drastically increase while the number of members rides take the opposite direction.\n",
    "The figures even out over the weekend (Saturday and Sunday) to approximately 50% for each user category.  \n",
    "This reinforces the hypothesis that casual riders use the bikes for leisure, touristic and other weekend related activities, while annual members are more into pre-determined activities.**"
   ]
  },
  {
   "cell_type": "markdown",
   "id": "humanitarian-unknown",
   "metadata": {
    "papermill": {
     "duration": 0.048172,
     "end_time": "2021-06-09T16:35:03.946118",
     "exception": false,
     "start_time": "2021-06-09T16:35:03.897946",
     "status": "completed"
    },
    "tags": []
   },
   "source": [
    "We will finally look at route preferences if any."
   ]
  },
  {
   "cell_type": "code",
   "execution_count": 43,
   "id": "detected-component",
   "metadata": {
    "execution": {
     "iopub.execute_input": "2021-06-09T16:35:04.047478Z",
     "iopub.status.busy": "2021-06-09T16:35:04.046807Z",
     "iopub.status.idle": "2021-06-09T16:35:06.948983Z",
     "shell.execute_reply": "2021-06-09T16:35:06.949549Z",
     "shell.execute_reply.started": "2021-06-09T16:27:37.885534Z"
    },
    "papermill": {
     "duration": 2.956161,
     "end_time": "2021-06-09T16:35:06.949764",
     "exception": false,
     "start_time": "2021-06-09T16:35:03.993603",
     "status": "completed"
    },
    "tags": []
   },
   "outputs": [],
   "source": [
    "# Concatenate start_station_name and end_station_name as a new column called route\n",
    "\n",
    "bike_share['route'] = bike_share['start_station'] + '_' + bike_share['end_station']"
   ]
  },
  {
   "cell_type": "code",
   "execution_count": 45,
   "id": "electronic-mapping",
   "metadata": {
    "execution": {
     "iopub.execute_input": "2021-06-09T16:35:07.569509Z",
     "iopub.status.busy": "2021-06-09T16:35:07.568383Z",
     "iopub.status.idle": "2021-06-09T16:35:08.811859Z",
     "shell.execute_reply": "2021-06-09T16:35:08.811337Z",
     "shell.execute_reply.started": "2021-06-09T16:27:39.675745Z"
    },
    "papermill": {
     "duration": 1.812197,
     "end_time": "2021-06-09T16:35:08.812007",
     "exception": false,
     "start_time": "2021-06-09T16:35:06.999810",
     "status": "completed"
    },
    "scrolled": true,
    "tags": []
   },
   "outputs": [
    {
     "data": {
      "text/plain": [
       "0.06061286447358826"
      ]
     },
     "execution_count": 45,
     "metadata": {},
     "output_type": "execute_result"
    }
   ],
   "source": [
    "# Proportion of casual rides with none or incomplete route information within casual rides\n",
    "casual_rides = bike_share[bike_share['user_type']=='casual']\n",
    "casual_rides[casual_rides['route'].isnull()].shape[0] / casual_rides.shape[0]"
   ]
  },
  {
   "cell_type": "code",
   "execution_count": 47,
   "id": "better-fetish",
   "metadata": {
    "execution": {
     "iopub.execute_input": "2021-06-09T16:35:09.428392Z",
     "iopub.status.busy": "2021-06-09T16:35:09.427749Z",
     "iopub.status.idle": "2021-06-09T16:35:09.995434Z",
     "shell.execute_reply": "2021-06-09T16:35:09.994690Z",
     "shell.execute_reply.started": "2021-06-09T16:27:44.105031Z"
    },
    "papermill": {
     "duration": 1.134979,
     "end_time": "2021-06-09T16:35:09.995586",
     "exception": false,
     "start_time": "2021-06-09T16:35:08.860607",
     "status": "completed"
    },
    "tags": []
   },
   "outputs": [
    {
     "data": {
      "text/plain": [
       "0.06137383837352313"
      ]
     },
     "execution_count": 47,
     "metadata": {},
     "output_type": "execute_result"
    }
   ],
   "source": [
    "# Proportion of members rides with none or incomplete route information within annual members rides\n",
    "member_rides = bike_share[bike_share['user_type']=='member']\n",
    "member_rides[member_rides['route'].isnull()].shape[0] / member_rides.shape[0]"
   ]
  },
  {
   "cell_type": "markdown",
   "id": "tribal-slave",
   "metadata": {
    "papermill": {
     "duration": 0.047666,
     "end_time": "2021-06-09T16:35:10.091562",
     "exception": false,
     "start_time": "2021-06-09T16:35:10.043896",
     "status": "completed"
    },
    "tags": []
   },
   "source": [
    "Since the above two proportions are the nearly same, we'll ignore all trips without start_station_name and/or end_station_name information and determine the proportion of bike trips on the most frequently used routes by each user category.  \n",
    "We'll define a route as frequently used if it totals at least 500 trips."
   ]
  },
  {
   "cell_type": "code",
   "execution_count": 48,
   "id": "about-ability",
   "metadata": {
    "execution": {
     "iopub.execute_input": "2021-06-09T16:35:10.708694Z",
     "iopub.status.busy": "2021-06-09T16:35:10.707728Z",
     "iopub.status.idle": "2021-06-09T16:35:11.931342Z",
     "shell.execute_reply": "2021-06-09T16:35:11.930354Z",
     "shell.execute_reply.started": "2021-06-09T16:27:45.665857Z"
    },
    "papermill": {
     "duration": 1.790702,
     "end_time": "2021-06-09T16:35:11.931519",
     "exception": false,
     "start_time": "2021-06-09T16:35:10.140817",
     "status": "completed"
    },
    "tags": []
   },
   "outputs": [
    {
     "data": {
      "text/plain": [
       "0.14154114973711754"
      ]
     },
     "execution_count": 48,
     "metadata": {},
     "output_type": "execute_result"
    }
   ],
   "source": [
    "# Proportion of rides on most frequently used routes by casual riders\n",
    "\n",
    "s1 = bike_share[bike_share['user_type'] == 'casual'].groupby('route')['route'].count()\n",
    "s1[s1 >= 500].sum() / s1.sum()"
   ]
  },
  {
   "cell_type": "code",
   "execution_count": 49,
   "id": "correct-efficiency",
   "metadata": {
    "execution": {
     "iopub.execute_input": "2021-06-09T16:35:12.553046Z",
     "iopub.status.busy": "2021-06-09T16:35:12.552318Z",
     "iopub.status.idle": "2021-06-09T16:35:14.092407Z",
     "shell.execute_reply": "2021-06-09T16:35:14.091803Z",
     "shell.execute_reply.started": "2021-06-09T16:27:46.907955Z"
    },
    "papermill": {
     "duration": 2.111737,
     "end_time": "2021-06-09T16:35:14.092593",
     "exception": false,
     "start_time": "2021-06-09T16:35:11.980856",
     "status": "completed"
    },
    "scrolled": true,
    "tags": []
   },
   "outputs": [
    {
     "data": {
      "text/plain": [
       "0.05379540178696068"
      ]
     },
     "execution_count": 49,
     "metadata": {},
     "output_type": "execute_result"
    }
   ],
   "source": [
    "# Proportion of rides on most frequently used routes by annual members\n",
    "s2 = bike_share[bike_share['user_type'] == 'member'].groupby('route')['route'].count()\n",
    "s2[s2 >= 500].sum() / s1.sum()"
   ]
  },
  {
   "cell_type": "markdown",
   "id": "medieval-baker",
   "metadata": {
    "papermill": {
     "duration": 0.053135,
     "end_time": "2021-06-09T16:35:14.196973",
     "exception": false,
     "start_time": "2021-06-09T16:35:14.143838",
     "status": "completed"
    },
    "tags": []
   },
   "source": [
    "**Casual rides tend to be more concentrated on the same routes as compared to trips taken by members.**"
   ]
  },
  {
   "cell_type": "markdown",
   "id": "velvet-korean",
   "metadata": {
    "papermill": {
     "duration": 0.065758,
     "end_time": "2021-06-09T16:35:14.326584",
     "exception": false,
     "start_time": "2021-06-09T16:35:14.260826",
     "status": "completed"
    },
    "tags": []
   },
   "source": [
    "## Conclusion"
   ]
  },
  {
   "cell_type": "markdown",
   "id": "civilian-macintosh",
   "metadata": {
    "papermill": {
     "duration": 0.048256,
     "end_time": "2021-06-09T16:35:14.425524",
     "exception": false,
     "start_time": "2021-06-09T16:35:14.377268",
     "status": "completed"
    },
    "tags": []
   },
   "source": [
    "In order to convert casual riders to annual members, my top 3 recommendations for the marketing coampaign based on the analysis we've conducted are:\n",
    "\n",
    "* **Emphasize the annual membership benefits from leisure and weekend related activities standpoint.**  \n",
    "\n",
    "\n",
    "* **Propose annual memberships with service options like weekends (aiming at converting casual riders) and weekdays (aiming at making annual membership even more compelling for current members).**  \n",
    "\n",
    "\n",
    "* **Offer one year membership trial at a prescribed discount targeting routes most frequently used by casual riders.**\n"
   ]
  }
 ],
 "metadata": {
  "kernelspec": {
   "display_name": "Python 3",
   "language": "python",
   "name": "python3"
  },
  "language_info": {
   "codemirror_mode": {
    "name": "ipython",
    "version": 3
   },
   "file_extension": ".py",
   "mimetype": "text/x-python",
   "name": "python",
   "nbconvert_exporter": "python",
   "pygments_lexer": "ipython3",
   "version": "3.9.0"
  },
  "papermill": {
   "default_parameters": {},
   "duration": 320.056168,
   "end_time": "2021-06-09T16:35:17.231588",
   "environment_variables": {},
   "exception": null,
   "input_path": "__notebook__.ipynb",
   "output_path": "__notebook__.ipynb",
   "parameters": {},
   "start_time": "2021-06-09T16:29:57.175420",
   "version": "2.3.3"
  }
 },
 "nbformat": 4,
 "nbformat_minor": 5
}
